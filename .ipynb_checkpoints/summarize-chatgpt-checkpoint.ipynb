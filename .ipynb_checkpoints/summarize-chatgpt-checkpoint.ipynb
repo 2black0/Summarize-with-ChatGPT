{
 "cells": [
  {
   "cell_type": "code",
   "execution_count": null,
   "id": "8a396a50-291c-438d-91da-7761e1335c98",
   "metadata": {},
   "outputs": [],
   "source": [
    "# for google colab you have to install this 2 library before run the code\n",
    "!pip install pypdf2\n",
    "!pip install openai"
   ]
  },
  {
   "cell_type": "code",
   "execution_count": 1,
   "id": "7e325a76-920c-46e8-8fcf-76416ed262b3",
   "metadata": {
    "tags": []
   },
   "outputs": [],
   "source": [
    "import os\n",
    "import PyPDF2\n",
    "import re\n",
    "import openai"
   ]
  },
  {
   "cell_type": "code",
   "execution_count": null,
   "id": "7bc8d77c-fdbf-4b0a-99bb-6e085389ad91",
   "metadata": {
    "tags": []
   },
   "outputs": [],
   "source": [
    "# Download pdf direcly\n",
    "!curl -o paper.pdf https://arxiv.org/pdf/2303.12461.pdf #change the url with pdf which you wanna download"
   ]
  },
  {
   "cell_type": "code",
   "execution_count": 3,
   "id": "bba7f4a0-e74d-4b1f-8f5b-f763ec420140",
   "metadata": {
    "tags": []
   },
   "outputs": [],
   "source": [
    "# Set the string that will contain the summary     \n",
    "pdf_summary_text = \"\"\n",
    "\n",
    "# Open the PDF file\n",
    "pdf_file_path = \"paper.pdf\"\n",
    "\n",
    "# Read the PDF file using PyPDF2\n",
    "pdf_file = open(pdf_file_path, 'rb')\n",
    "pdf_reader = PyPDF2.PdfReader(pdf_file)"
   ]
  },
  {
   "cell_type": "code",
   "execution_count": null,
   "id": "7cba399a-3ebd-4c27-817f-44545d916a7e",
   "metadata": {},
   "outputs": [],
   "source": [
    "openai.api_key = \"aa-aaaaaaaaaaaaaaaaaaaaaaaaaaaaaaaaaaaaaaaaaaaaaaaa\" #change the api key with yours"
   ]
  },
  {
   "cell_type": "code",
   "execution_count": null,
   "id": "7f11617f-8ab5-4c27-b682-bb283b137804",
   "metadata": {},
   "outputs": [],
   "source": [
    "# Loop through all the pages in the PDF file\n",
    "for page_num in range(len(pdf_reader.pages)):\n",
    "    # Extract the text from the page\n",
    "    page_text = pdf_reader.pages[page_num].extract_text().lower()\n",
    "    \n",
    "    response = openai.ChatCompletion.create(\n",
    "                    model=\"gpt-3.5-turbo\",\n",
    "                    messages=[\n",
    "                        {\"role\": \"system\", \"content\": \"You are a helpful research assistant.\"},\n",
    "                        {\"role\": \"user\", \"content\": f\"Summarize this: {page_text}\"},\n",
    "                            ],\n",
    "                                )\n",
    "    page_summary = response[\"choices\"][0][\"message\"][\"content\"]\n",
    "    pdf_summary_text+=page_summary + \"\\n\"\n",
    "    pdf_summary_file = pdf_file_path.replace(os.path.splitext(pdf_file_path)[1], \"_summary.txt\")\n",
    "    with open(pdf_summary_file, \"w+\") as file:\n",
    "        file.write(pdf_summary_text)\n",
    "\n",
    "pdf_file.close()\n",
    "\n",
    "with open(pdf_summary_file, \"r\") as file:\n",
    "    print(file.read())"
   ]
  }
 ],
 "metadata": {
  "kernelspec": {
   "display_name": "Python 3 (ipykernel)",
   "language": "python",
   "name": "python3"
  },
  "language_info": {
   "codemirror_mode": {
    "name": "ipython",
    "version": 3
   },
   "file_extension": ".py",
   "mimetype": "text/x-python",
   "name": "python",
   "nbconvert_exporter": "python",
   "pygments_lexer": "ipython3",
   "version": "3.9.16"
  }
 },
 "nbformat": 4,
 "nbformat_minor": 5
}
